{
  "nbformat": 4,
  "nbformat_minor": 0,
  "metadata": {
    "colab": {
      "name": "3 Assignment.ipynb",
      "provenance": [],
      "authorship_tag": "ABX9TyMaOA4HgWv3kuOEdNW2yJiJ",
      "include_colab_link": true
    },
    "kernelspec": {
      "name": "python3",
      "display_name": "Python 3"
    }
  },
  "cells": [
    {
      "cell_type": "markdown",
      "metadata": {
        "id": "view-in-github",
        "colab_type": "text"
      },
      "source": [
        "<a href=\"https://colab.research.google.com/github/Ahila-Ramesh/LetsUpgrade-Assingment/blob/main/3_Assignment.ipynb\" target=\"_parent\"><img src=\"https://colab.research.google.com/assets/colab-badge.svg\" alt=\"Open In Colab\"/></a>"
      ]
    },
    {
      "cell_type": "markdown",
      "metadata": {
        "id": "57F_M82bxZcn"
      },
      "source": [
        "#Create a Python function to check whether the given number is Prime or Not\r\n"
      ]
    },
    {
      "cell_type": "code",
      "metadata": {
        "id": "F_euJDC3xPiA"
      },
      "source": [
        "def PrimeOrNot(num):\r\n",
        "  for n in range(2,num) :\r\n",
        "    if num % n == 0:\r\n",
        "      print(\"Given num\",num,\"Is not a Prime number\")\r\n",
        "      break\r\n",
        "  else :\r\n",
        "      print(\"Given num\",num,\"Is a Prime number\")"
      ],
      "execution_count": 1,
      "outputs": []
    },
    {
      "cell_type": "code",
      "metadata": {
        "colab": {
          "base_uri": "https://localhost:8080/"
        },
        "id": "n23LWh800hZa",
        "outputId": "e605c4b1-fb2b-4db2-a627-51288ab575dc"
      },
      "source": [
        "PrimeOrNot(11)"
      ],
      "execution_count": 2,
      "outputs": [
        {
          "output_type": "stream",
          "text": [
            "Given num 11 Is a Prime number\n"
          ],
          "name": "stdout"
        }
      ]
    },
    {
      "cell_type": "code",
      "metadata": {
        "colab": {
          "base_uri": "https://localhost:8080/"
        },
        "id": "zR3pMqJX0lvI",
        "outputId": "9c9a4ed2-5753-4c62-8607-6dcb6a9aa9db"
      },
      "source": [
        "PrimeOrNot(682)"
      ],
      "execution_count": 3,
      "outputs": [
        {
          "output_type": "stream",
          "text": [
            "Given num 682 Is not a Prime number\n"
          ],
          "name": "stdout"
        }
      ]
    }
  ]
}