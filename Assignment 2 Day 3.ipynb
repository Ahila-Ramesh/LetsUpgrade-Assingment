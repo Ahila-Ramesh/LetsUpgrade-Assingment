{
  "nbformat": 4,
  "nbformat_minor": 0,
  "metadata": {
    "colab": {
      "name": "Untitled0.ipynb",
      "provenance": [],
      "authorship_tag": "ABX9TyOo6LFIGNaevlE4YtIB2K8d",
      "include_colab_link": true
    },
    "kernelspec": {
      "name": "python3",
      "display_name": "Python 3"
    }
  },
  "cells": [
    {
      "cell_type": "markdown",
      "metadata": {
        "id": "view-in-github",
        "colab_type": "text"
      },
      "source": [
        "<a href=\"https://colab.research.google.com/github/Ahila-Ramesh/LetsUpgrade-Assingment/blob/main/Assignment%202%20Day%203.ipynb\" target=\"_parent\"><img src=\"https://colab.research.google.com/assets/colab-badge.svg\" alt=\"Open In Colab\"/></a>"
      ]
    },
    {
      "cell_type": "markdown",
      "metadata": {
        "id": "x4NKqJ5Megk8"
      },
      "source": [
        "#Assignment 2 - Day 3\r\n",
        "You all are pilots, you have to land a plane, the altitude required for landing a plane is 1000ft, if it\r\n",
        "is less than that tell the pilot to land the plane, or it is more than that but less than 5000ft ask the\r\n",
        "pilot to \"come down to 1000ft\", else if it is more than 5000ft ask the pilot to \"go around and try\r\n",
        "later\"\r\n"
      ]
    },
    {
      "cell_type": "code",
      "metadata": {
        "id": "EFzidRlQe0D0"
      },
      "source": [
        "landplane=2500"
      ],
      "execution_count": 8,
      "outputs": []
    },
    {
      "cell_type": "code",
      "metadata": {
        "colab": {
          "base_uri": "https://localhost:8080/"
        },
        "id": "hvVq2GaOfE2z",
        "outputId": "fc53ea31-77d1-40f2-a32d-8695af2a7ee1"
      },
      "source": [
        "if landplane < 1000:\r\n",
        "  print (\"Pilot,You've got to land the plane now!\")\r\n",
        "elif 1000 < landplane < 5000 :\r\n",
        "  print (\"Pilot,You've got to come down to 1000ft altitude!!\")\r\n",
        "else :\r\n",
        "  print (\"Pilot,Go around and Try Landing Later \")"
      ],
      "execution_count": 14,
      "outputs": [
        {
          "output_type": "stream",
          "text": [
            "Pilot,You've got to come down to 1000ft altitude!!\n"
          ],
          "name": "stdout"
        }
      ]
    }
  ]
}